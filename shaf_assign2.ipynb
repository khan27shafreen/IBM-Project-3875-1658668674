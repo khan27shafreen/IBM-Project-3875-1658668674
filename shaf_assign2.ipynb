{
  "nbformat": 4,
  "nbformat_minor": 0,
  "metadata": {
    "colab": {
      "provenance": []
    },
    "kernelspec": {
      "name": "python3",
      "display_name": "Python 3"
    },
    "language_info": {
      "name": "python"
    }
  },
  "cells": [
    {
      "cell_type": "code",
      "execution_count": 2,
      "metadata": {
        "id": "UfkcDtG2KuJA"
      },
      "outputs": [],
      "source": [
        "import pandas as pd\n",
        "import numpy as np\n",
        "import sklearn as sk"
      ]
    },
    {
      "cell_type": "code",
      "source": [
        "data=pd.read_csv(\"/content/50_Startups.csv\")"
      ],
      "metadata": {
        "id": "mFYw6vQPKu9q"
      },
      "execution_count": 3,
      "outputs": []
    },
    {
      "cell_type": "code",
      "source": [
        "data.head()"
      ],
      "metadata": {
        "colab": {
          "base_uri": "https://localhost:8080/",
          "height": 206
        },
        "id": "6k6EDOCsNXxW",
        "outputId": "5c83a126-da85-455b-ae96-d897ac632995"
      },
      "execution_count": 4,
      "outputs": [
        {
          "output_type": "execute_result",
          "data": {
            "text/plain": [
              "   R&D Spend  Administration  Marketing Spend       State     Profit\n",
              "0  165349.20       136897.80        471784.10    New York  192261.83\n",
              "1  162597.70       151377.59        443898.53  California  191792.06\n",
              "2  153441.51       101145.55        407934.54     Florida  191050.39\n",
              "3  144372.41       118671.85        383199.62    New York  182901.99\n",
              "4  142107.34        91391.77        366168.42     Florida  166187.94"
            ],
            "text/html": [
              "\n",
              "  <div id=\"df-a4d7f69f-d8b7-42de-8b93-c7ebaf085938\">\n",
              "    <div class=\"colab-df-container\">\n",
              "      <div>\n",
              "<style scoped>\n",
              "    .dataframe tbody tr th:only-of-type {\n",
              "        vertical-align: middle;\n",
              "    }\n",
              "\n",
              "    .dataframe tbody tr th {\n",
              "        vertical-align: top;\n",
              "    }\n",
              "\n",
              "    .dataframe thead th {\n",
              "        text-align: right;\n",
              "    }\n",
              "</style>\n",
              "<table border=\"1\" class=\"dataframe\">\n",
              "  <thead>\n",
              "    <tr style=\"text-align: right;\">\n",
              "      <th></th>\n",
              "      <th>R&amp;D Spend</th>\n",
              "      <th>Administration</th>\n",
              "      <th>Marketing Spend</th>\n",
              "      <th>State</th>\n",
              "      <th>Profit</th>\n",
              "    </tr>\n",
              "  </thead>\n",
              "  <tbody>\n",
              "    <tr>\n",
              "      <th>0</th>\n",
              "      <td>165349.20</td>\n",
              "      <td>136897.80</td>\n",
              "      <td>471784.10</td>\n",
              "      <td>New York</td>\n",
              "      <td>192261.83</td>\n",
              "    </tr>\n",
              "    <tr>\n",
              "      <th>1</th>\n",
              "      <td>162597.70</td>\n",
              "      <td>151377.59</td>\n",
              "      <td>443898.53</td>\n",
              "      <td>California</td>\n",
              "      <td>191792.06</td>\n",
              "    </tr>\n",
              "    <tr>\n",
              "      <th>2</th>\n",
              "      <td>153441.51</td>\n",
              "      <td>101145.55</td>\n",
              "      <td>407934.54</td>\n",
              "      <td>Florida</td>\n",
              "      <td>191050.39</td>\n",
              "    </tr>\n",
              "    <tr>\n",
              "      <th>3</th>\n",
              "      <td>144372.41</td>\n",
              "      <td>118671.85</td>\n",
              "      <td>383199.62</td>\n",
              "      <td>New York</td>\n",
              "      <td>182901.99</td>\n",
              "    </tr>\n",
              "    <tr>\n",
              "      <th>4</th>\n",
              "      <td>142107.34</td>\n",
              "      <td>91391.77</td>\n",
              "      <td>366168.42</td>\n",
              "      <td>Florida</td>\n",
              "      <td>166187.94</td>\n",
              "    </tr>\n",
              "  </tbody>\n",
              "</table>\n",
              "</div>\n",
              "      <button class=\"colab-df-convert\" onclick=\"convertToInteractive('df-a4d7f69f-d8b7-42de-8b93-c7ebaf085938')\"\n",
              "              title=\"Convert this dataframe to an interactive table.\"\n",
              "              style=\"display:none;\">\n",
              "        \n",
              "  <svg xmlns=\"http://www.w3.org/2000/svg\" height=\"24px\"viewBox=\"0 0 24 24\"\n",
              "       width=\"24px\">\n",
              "    <path d=\"M0 0h24v24H0V0z\" fill=\"none\"/>\n",
              "    <path d=\"M18.56 5.44l.94 2.06.94-2.06 2.06-.94-2.06-.94-.94-2.06-.94 2.06-2.06.94zm-11 1L8.5 8.5l.94-2.06 2.06-.94-2.06-.94L8.5 2.5l-.94 2.06-2.06.94zm10 10l.94 2.06.94-2.06 2.06-.94-2.06-.94-.94-2.06-.94 2.06-2.06.94z\"/><path d=\"M17.41 7.96l-1.37-1.37c-.4-.4-.92-.59-1.43-.59-.52 0-1.04.2-1.43.59L10.3 9.45l-7.72 7.72c-.78.78-.78 2.05 0 2.83L4 21.41c.39.39.9.59 1.41.59.51 0 1.02-.2 1.41-.59l7.78-7.78 2.81-2.81c.8-.78.8-2.07 0-2.86zM5.41 20L4 18.59l7.72-7.72 1.47 1.35L5.41 20z\"/>\n",
              "  </svg>\n",
              "      </button>\n",
              "      \n",
              "  <style>\n",
              "    .colab-df-container {\n",
              "      display:flex;\n",
              "      flex-wrap:wrap;\n",
              "      gap: 12px;\n",
              "    }\n",
              "\n",
              "    .colab-df-convert {\n",
              "      background-color: #E8F0FE;\n",
              "      border: none;\n",
              "      border-radius: 50%;\n",
              "      cursor: pointer;\n",
              "      display: none;\n",
              "      fill: #1967D2;\n",
              "      height: 32px;\n",
              "      padding: 0 0 0 0;\n",
              "      width: 32px;\n",
              "    }\n",
              "\n",
              "    .colab-df-convert:hover {\n",
              "      background-color: #E2EBFA;\n",
              "      box-shadow: 0px 1px 2px rgba(60, 64, 67, 0.3), 0px 1px 3px 1px rgba(60, 64, 67, 0.15);\n",
              "      fill: #174EA6;\n",
              "    }\n",
              "\n",
              "    [theme=dark] .colab-df-convert {\n",
              "      background-color: #3B4455;\n",
              "      fill: #D2E3FC;\n",
              "    }\n",
              "\n",
              "    [theme=dark] .colab-df-convert:hover {\n",
              "      background-color: #434B5C;\n",
              "      box-shadow: 0px 1px 3px 1px rgba(0, 0, 0, 0.15);\n",
              "      filter: drop-shadow(0px 1px 2px rgba(0, 0, 0, 0.3));\n",
              "      fill: #FFFFFF;\n",
              "    }\n",
              "  </style>\n",
              "\n",
              "      <script>\n",
              "        const buttonEl =\n",
              "          document.querySelector('#df-a4d7f69f-d8b7-42de-8b93-c7ebaf085938 button.colab-df-convert');\n",
              "        buttonEl.style.display =\n",
              "          google.colab.kernel.accessAllowed ? 'block' : 'none';\n",
              "\n",
              "        async function convertToInteractive(key) {\n",
              "          const element = document.querySelector('#df-a4d7f69f-d8b7-42de-8b93-c7ebaf085938');\n",
              "          const dataTable =\n",
              "            await google.colab.kernel.invokeFunction('convertToInteractive',\n",
              "                                                     [key], {});\n",
              "          if (!dataTable) return;\n",
              "\n",
              "          const docLinkHtml = 'Like what you see? Visit the ' +\n",
              "            '<a target=\"_blank\" href=https://colab.research.google.com/notebooks/data_table.ipynb>data table notebook</a>'\n",
              "            + ' to learn more about interactive tables.';\n",
              "          element.innerHTML = '';\n",
              "          dataTable['output_type'] = 'display_data';\n",
              "          await google.colab.output.renderOutput(dataTable, element);\n",
              "          const docLink = document.createElement('div');\n",
              "          docLink.innerHTML = docLinkHtml;\n",
              "          element.appendChild(docLink);\n",
              "        }\n",
              "      </script>\n",
              "    </div>\n",
              "  </div>\n",
              "  "
            ]
          },
          "metadata": {},
          "execution_count": 4
        }
      ]
    },
    {
      "cell_type": "code",
      "source": [
        "data.isnull().sum()"
      ],
      "metadata": {
        "colab": {
          "base_uri": "https://localhost:8080/"
        },
        "id": "3sX_vvg8NyeL",
        "outputId": "82fdcf73-fc0d-4a13-b167-d6e2fa6805c1"
      },
      "execution_count": 5,
      "outputs": [
        {
          "output_type": "execute_result",
          "data": {
            "text/plain": [
              "R&D Spend          0\n",
              "Administration     0\n",
              "Marketing Spend    0\n",
              "State              0\n",
              "Profit             0\n",
              "dtype: int64"
            ]
          },
          "metadata": {},
          "execution_count": 5
        }
      ]
    },
    {
      "cell_type": "code",
      "source": [
        " from sklearn.preprocessing import LabelEncoder"
      ],
      "metadata": {
        "id": "bGBwXQdiN87p"
      },
      "execution_count": 6,
      "outputs": []
    },
    {
      "cell_type": "code",
      "source": [
        "le=LabelEncoder()"
      ],
      "metadata": {
        "id": "JcXZk3QHPY80"
      },
      "execution_count": 7,
      "outputs": []
    },
    {
      "cell_type": "code",
      "source": [
        "data['State']=le.fit_transform(data['State'])"
      ],
      "metadata": {
        "id": "P_nAJJjKPZHY"
      },
      "execution_count": 8,
      "outputs": []
    },
    {
      "cell_type": "code",
      "source": [
        "data.head()"
      ],
      "metadata": {
        "colab": {
          "base_uri": "https://localhost:8080/",
          "height": 206
        },
        "id": "hte8hsySPZSm",
        "outputId": "65712187-3d27-442c-97a3-38be59530a64"
      },
      "execution_count": 9,
      "outputs": [
        {
          "output_type": "execute_result",
          "data": {
            "text/plain": [
              "   R&D Spend  Administration  Marketing Spend  State     Profit\n",
              "0  165349.20       136897.80        471784.10      2  192261.83\n",
              "1  162597.70       151377.59        443898.53      0  191792.06\n",
              "2  153441.51       101145.55        407934.54      1  191050.39\n",
              "3  144372.41       118671.85        383199.62      2  182901.99\n",
              "4  142107.34        91391.77        366168.42      1  166187.94"
            ],
            "text/html": [
              "\n",
              "  <div id=\"df-655b47a0-e6ec-4a56-abbe-a202f0e8dcf2\">\n",
              "    <div class=\"colab-df-container\">\n",
              "      <div>\n",
              "<style scoped>\n",
              "    .dataframe tbody tr th:only-of-type {\n",
              "        vertical-align: middle;\n",
              "    }\n",
              "\n",
              "    .dataframe tbody tr th {\n",
              "        vertical-align: top;\n",
              "    }\n",
              "\n",
              "    .dataframe thead th {\n",
              "        text-align: right;\n",
              "    }\n",
              "</style>\n",
              "<table border=\"1\" class=\"dataframe\">\n",
              "  <thead>\n",
              "    <tr style=\"text-align: right;\">\n",
              "      <th></th>\n",
              "      <th>R&amp;D Spend</th>\n",
              "      <th>Administration</th>\n",
              "      <th>Marketing Spend</th>\n",
              "      <th>State</th>\n",
              "      <th>Profit</th>\n",
              "    </tr>\n",
              "  </thead>\n",
              "  <tbody>\n",
              "    <tr>\n",
              "      <th>0</th>\n",
              "      <td>165349.20</td>\n",
              "      <td>136897.80</td>\n",
              "      <td>471784.10</td>\n",
              "      <td>2</td>\n",
              "      <td>192261.83</td>\n",
              "    </tr>\n",
              "    <tr>\n",
              "      <th>1</th>\n",
              "      <td>162597.70</td>\n",
              "      <td>151377.59</td>\n",
              "      <td>443898.53</td>\n",
              "      <td>0</td>\n",
              "      <td>191792.06</td>\n",
              "    </tr>\n",
              "    <tr>\n",
              "      <th>2</th>\n",
              "      <td>153441.51</td>\n",
              "      <td>101145.55</td>\n",
              "      <td>407934.54</td>\n",
              "      <td>1</td>\n",
              "      <td>191050.39</td>\n",
              "    </tr>\n",
              "    <tr>\n",
              "      <th>3</th>\n",
              "      <td>144372.41</td>\n",
              "      <td>118671.85</td>\n",
              "      <td>383199.62</td>\n",
              "      <td>2</td>\n",
              "      <td>182901.99</td>\n",
              "    </tr>\n",
              "    <tr>\n",
              "      <th>4</th>\n",
              "      <td>142107.34</td>\n",
              "      <td>91391.77</td>\n",
              "      <td>366168.42</td>\n",
              "      <td>1</td>\n",
              "      <td>166187.94</td>\n",
              "    </tr>\n",
              "  </tbody>\n",
              "</table>\n",
              "</div>\n",
              "      <button class=\"colab-df-convert\" onclick=\"convertToInteractive('df-655b47a0-e6ec-4a56-abbe-a202f0e8dcf2')\"\n",
              "              title=\"Convert this dataframe to an interactive table.\"\n",
              "              style=\"display:none;\">\n",
              "        \n",
              "  <svg xmlns=\"http://www.w3.org/2000/svg\" height=\"24px\"viewBox=\"0 0 24 24\"\n",
              "       width=\"24px\">\n",
              "    <path d=\"M0 0h24v24H0V0z\" fill=\"none\"/>\n",
              "    <path d=\"M18.56 5.44l.94 2.06.94-2.06 2.06-.94-2.06-.94-.94-2.06-.94 2.06-2.06.94zm-11 1L8.5 8.5l.94-2.06 2.06-.94-2.06-.94L8.5 2.5l-.94 2.06-2.06.94zm10 10l.94 2.06.94-2.06 2.06-.94-2.06-.94-.94-2.06-.94 2.06-2.06.94z\"/><path d=\"M17.41 7.96l-1.37-1.37c-.4-.4-.92-.59-1.43-.59-.52 0-1.04.2-1.43.59L10.3 9.45l-7.72 7.72c-.78.78-.78 2.05 0 2.83L4 21.41c.39.39.9.59 1.41.59.51 0 1.02-.2 1.41-.59l7.78-7.78 2.81-2.81c.8-.78.8-2.07 0-2.86zM5.41 20L4 18.59l7.72-7.72 1.47 1.35L5.41 20z\"/>\n",
              "  </svg>\n",
              "      </button>\n",
              "      \n",
              "  <style>\n",
              "    .colab-df-container {\n",
              "      display:flex;\n",
              "      flex-wrap:wrap;\n",
              "      gap: 12px;\n",
              "    }\n",
              "\n",
              "    .colab-df-convert {\n",
              "      background-color: #E8F0FE;\n",
              "      border: none;\n",
              "      border-radius: 50%;\n",
              "      cursor: pointer;\n",
              "      display: none;\n",
              "      fill: #1967D2;\n",
              "      height: 32px;\n",
              "      padding: 0 0 0 0;\n",
              "      width: 32px;\n",
              "    }\n",
              "\n",
              "    .colab-df-convert:hover {\n",
              "      background-color: #E2EBFA;\n",
              "      box-shadow: 0px 1px 2px rgba(60, 64, 67, 0.3), 0px 1px 3px 1px rgba(60, 64, 67, 0.15);\n",
              "      fill: #174EA6;\n",
              "    }\n",
              "\n",
              "    [theme=dark] .colab-df-convert {\n",
              "      background-color: #3B4455;\n",
              "      fill: #D2E3FC;\n",
              "    }\n",
              "\n",
              "    [theme=dark] .colab-df-convert:hover {\n",
              "      background-color: #434B5C;\n",
              "      box-shadow: 0px 1px 3px 1px rgba(0, 0, 0, 0.15);\n",
              "      filter: drop-shadow(0px 1px 2px rgba(0, 0, 0, 0.3));\n",
              "      fill: #FFFFFF;\n",
              "    }\n",
              "  </style>\n",
              "\n",
              "      <script>\n",
              "        const buttonEl =\n",
              "          document.querySelector('#df-655b47a0-e6ec-4a56-abbe-a202f0e8dcf2 button.colab-df-convert');\n",
              "        buttonEl.style.display =\n",
              "          google.colab.kernel.accessAllowed ? 'block' : 'none';\n",
              "\n",
              "        async function convertToInteractive(key) {\n",
              "          const element = document.querySelector('#df-655b47a0-e6ec-4a56-abbe-a202f0e8dcf2');\n",
              "          const dataTable =\n",
              "            await google.colab.kernel.invokeFunction('convertToInteractive',\n",
              "                                                     [key], {});\n",
              "          if (!dataTable) return;\n",
              "\n",
              "          const docLinkHtml = 'Like what you see? Visit the ' +\n",
              "            '<a target=\"_blank\" href=https://colab.research.google.com/notebooks/data_table.ipynb>data table notebook</a>'\n",
              "            + ' to learn more about interactive tables.';\n",
              "          element.innerHTML = '';\n",
              "          dataTable['output_type'] = 'display_data';\n",
              "          await google.colab.output.renderOutput(dataTable, element);\n",
              "          const docLink = document.createElement('div');\n",
              "          docLink.innerHTML = docLinkHtml;\n",
              "          element.appendChild(docLink);\n",
              "        }\n",
              "      </script>\n",
              "    </div>\n",
              "  </div>\n",
              "  "
            ]
          },
          "metadata": {},
          "execution_count": 9
        }
      ]
    },
    {
      "cell_type": "code",
      "source": [
        "y=data['Profit']\n",
        "x=data.drop(columns=['Profit'],axis=1)"
      ],
      "metadata": {
        "id": "J9Jr8BbHQg6I"
      },
      "execution_count": 13,
      "outputs": []
    },
    {
      "cell_type": "code",
      "source": [
        "from sklearn.preprocessing import scale"
      ],
      "metadata": {
        "id": "xLfwD9T-VPWM"
      },
      "execution_count": 21,
      "outputs": []
    },
    {
      "cell_type": "code",
      "source": [
        "names=x.columns"
      ],
      "metadata": {
        "id": "tjf7Ots_VP4S"
      },
      "execution_count": 23,
      "outputs": []
    },
    {
      "cell_type": "code",
      "source": [
        "x=scale(x)"
      ],
      "metadata": {
        "id": "XekPAgGHaQCe"
      },
      "execution_count": 24,
      "outputs": []
    },
    {
      "cell_type": "code",
      "source": [
        "x"
      ],
      "metadata": {
        "colab": {
          "base_uri": "https://localhost:8080/"
        },
        "id": "KPcIq9pmbyLd",
        "outputId": "aaa9dfb3-7553-49c1-b3ae-594e2172117d"
      },
      "execution_count": 25,
      "outputs": [
        {
          "output_type": "execute_result",
          "data": {
            "text/plain": [
              "array([[ 2.01819092,  0.55696553,  2.18783528,  1.16731536],\n",
              "       [ 1.95675646,  1.0893969 ,  1.95029024, -1.23401909],\n",
              "       [ 1.75232048, -0.75766814,  1.64392865, -0.03335187],\n",
              "       [ 1.54982902, -0.1132146 ,  1.43322263,  1.16731536],\n",
              "       [ 1.49925539, -1.11632102,  1.28814125, -0.03335187],\n",
              "       [ 1.27083396, -0.806604  ,  1.25996984,  1.16731536],\n",
              "       [ 1.3319795 ,  0.93574262, -0.74312422, -1.23401909],\n",
              "       [ 1.23558377,  0.87437939,  0.92787631, -0.03335187],\n",
              "       [ 1.01776417,  0.99163696,  0.82340982,  1.16731536],\n",
              "       [ 1.08011094, -0.48065199,  0.76691751, -1.23401909],\n",
              "       [ 0.60181303, -0.4102384 ,  0.1210342 , -0.03335187],\n",
              "       [ 0.57410176, -1.10165542,  0.29637694, -1.23401909],\n",
              "       [ 0.4220906 ,  0.20479752,  0.29718526, -0.03335187],\n",
              "       [ 0.38030758,  0.50538623,  0.32125438, -1.23401909],\n",
              "       [ 1.00438367,  1.27949493,  0.35403374, -0.03335187],\n",
              "       [ 0.88337621,  0.03184527,  0.39886959,  1.16731536],\n",
              "       [ 0.06818346, -0.00563469,  0.42076085, -1.23401909],\n",
              "       [ 0.43980557,  0.8577414 ,  0.57603938,  1.16731536],\n",
              "       [ 0.37487683, -0.27853767,  0.68120328, -0.03335187],\n",
              "       [ 0.25588265,  1.16795814, -1.83108825,  1.16731536],\n",
              "       [ 0.02890359, -0.28988105,  0.71310446, -1.23401909],\n",
              "       [ 0.07658668,  1.1774935 ,  0.72224334,  1.16731536],\n",
              "       [-0.02154122,  0.03794589,  0.75275659, -0.03335187],\n",
              "       [-0.165823  , -0.58832162,  0.76510399, -0.03335187],\n",
              "       [ 0.04654576, -0.82621636, -0.63359259,  1.16731536],\n",
              "       [-0.22985461,  0.65460485, -0.6558447 , -1.23401909],\n",
              "       [ 0.00825076,  0.82311815, -0.68917401, -0.03335187],\n",
              "       [-0.06367255,  0.224807  ,  1.177531  ,  1.16731536],\n",
              "       [-0.19889043,  2.23914065, -0.82463513, -0.03335187],\n",
              "       [-0.20884945,  1.15023284, -0.918423  ,  1.16731536],\n",
              "       [-0.2894745 , -0.22465065, -1.05478086, -0.03335187],\n",
              "       [-0.30863384,  1.13809338, -1.07959552,  1.16731536],\n",
              "       [-0.25789476,  0.27463345, -1.43850805, -1.23401909],\n",
              "       [-0.4346159 , -0.68736485, -0.00270767, -0.03335187],\n",
              "       [-0.63708012,  1.32165249, -0.03539459, -1.23401909],\n",
              "       [-0.64628022, -1.3496062 , -0.08037287,  1.16731536],\n",
              "       [-1.03367032,  0.19508381, -0.11777636, -0.03335187],\n",
              "       [-0.68968668, -2.59114164, -0.15268033, -1.23401909],\n",
              "       [-1.2219853 , -2.0519077 , -0.25289545,  1.16731536],\n",
              "       [-0.81274405, -1.42555047, -0.34034534, -1.23401909],\n",
              "       [-1.0316481 , -0.11784035, -0.3591171 , -1.23401909],\n",
              "       [-1.05088134, -1.36198577, -0.43003381, -0.03335187],\n",
              "       [-1.14581818, -0.93990057, -0.57033117, -1.23401909],\n",
              "       [-1.32745787,  0.20707435, -1.52838812,  1.16731536],\n",
              "       [-1.17848774,  1.21546693, -1.5897171 , -1.23401909],\n",
              "       [-1.65133124,  0.08833235, -1.8148695 ,  1.16731536],\n",
              "       [-1.6442929 , -0.21821836,  0.6999006 , -0.03335187],\n",
              "       [-1.673664  ,  0.50288031, -1.83108825, -1.23401909],\n",
              "       [-1.66156131, -2.57422677, -1.83108825,  1.16731536],\n",
              "       [-1.673664  , -0.17528531, -1.4462786 , -1.23401909],\n",
              "       [ 0.57410176, -1.10165542,  0.29637694, -1.23401909],\n",
              "       [ 0.4220906 ,  0.20479752,  0.29718526, -0.03335187],\n",
              "       [ 0.38030758,  0.50538623,  0.32125438, -1.23401909],\n",
              "       [ 1.00438367,  1.27949493,  0.35403374, -0.03335187],\n",
              "       [ 0.88337621,  0.03184527,  0.39886959,  1.16731536],\n",
              "       [ 0.06818346, -0.00563469,  0.42076085, -1.23401909],\n",
              "       [ 0.43980557,  0.8577414 ,  0.57603938,  1.16731536],\n",
              "       [ 0.37487683, -0.27853767,  0.68120328, -0.03335187],\n",
              "       [ 0.25588265,  1.16795814, -1.83108825,  1.16731536],\n",
              "       [ 0.02890359, -0.28988105,  0.71310446, -1.23401909],\n",
              "       [ 0.07658668,  1.1774935 ,  0.72224334,  1.16731536],\n",
              "       [-0.02154122,  0.03794589,  0.75275659, -0.03335187],\n",
              "       [-0.165823  , -0.58832162,  0.76510399, -0.03335187],\n",
              "       [ 0.04654576, -0.82621636, -0.63359259,  1.16731536],\n",
              "       [-0.22985461,  0.65460485, -0.6558447 , -1.23401909],\n",
              "       [ 0.00825076,  0.82311815, -0.68917401, -0.03335187],\n",
              "       [-0.06367255,  0.224807  ,  1.177531  ,  1.16731536],\n",
              "       [-0.19889043,  2.23914065, -0.82463513, -0.03335187],\n",
              "       [-0.20884945,  1.15023284, -0.918423  ,  1.16731536],\n",
              "       [-0.2894745 , -0.22465065, -1.05478086,  1.16731536],\n",
              "       [-1.2219853 ,  1.13809338, -1.07959552,  1.16731536],\n",
              "       [-0.25789476,  0.27463345, -1.43850805, -1.23401909],\n",
              "       [-0.4346159 , -0.68736485, -0.00270767, -0.03335187],\n",
              "       [-0.63708012,  1.32165249, -0.03539459,  1.16731536],\n",
              "       [-1.2219853 , -1.3496062 , -0.08037287,  1.16731536],\n",
              "       [-1.03367032,  0.19508381, -0.11777636, -0.03335187],\n",
              "       [-0.68968668, -2.59114164, -0.15268033, -1.23401909],\n",
              "       [-1.2219853 , -2.0519077 , -0.25289545,  1.16731536],\n",
              "       [-0.81274405, -1.42555047, -0.34034534, -1.23401909],\n",
              "       [-1.0316481 , -0.11784035, -0.3591171 , -1.23401909],\n",
              "       [-1.05088134, -1.36198577, -0.43003381,  1.16731536],\n",
              "       [-1.14581818, -0.93990057, -0.57033117, -1.23401909],\n",
              "       [-1.2219853 ,  0.20707435, -1.52838812,  1.16731536],\n",
              "       [-1.17848774,  1.21546693, -1.5897171 , -1.23401909],\n",
              "       [-1.65133124,  0.08833235, -1.8148695 ,  1.16731536],\n",
              "       [-1.6442929 , -0.21821836,  0.6999006 , -0.03335187],\n",
              "       [-1.673664  ,  0.50288031, -1.83108825, -1.23401909],\n",
              "       [-1.66156131, -2.57422677, -1.83108825,  1.16731536],\n",
              "       [-1.673664  , -0.17528531, -1.4462786 , -1.23401909],\n",
              "       [ 2.01819092,  0.55696553,  2.18783528,  1.16731536],\n",
              "       [ 1.95675646,  1.0893969 ,  1.95029024, -1.23401909],\n",
              "       [ 1.75232048, -0.75766814,  1.64392865, -0.03335187],\n",
              "       [ 1.54982902, -0.1132146 ,  1.43322263,  1.16731536],\n",
              "       [ 1.49925539, -1.11632102,  1.28814125, -0.03335187],\n",
              "       [ 1.27083396, -0.806604  ,  1.25996984,  1.16731536],\n",
              "       [ 1.3319795 ,  0.93574262, -0.74312422, -1.23401909],\n",
              "       [ 1.23558377,  0.87437939,  0.92787631, -0.03335187],\n",
              "       [ 1.01776417,  0.99163696,  0.82340982,  1.16731536],\n",
              "       [ 1.08011094, -0.48065199,  0.76691751, -1.23401909],\n",
              "       [ 0.60181303, -0.4102384 ,  0.1210342 , -0.03335187],\n",
              "       [ 0.57410176, -1.10165542,  0.29637694, -1.23401909],\n",
              "       [ 0.4220906 ,  0.20479752,  0.29718526, -0.03335187],\n",
              "       [ 0.38030758,  0.50538623,  0.32125438, -1.23401909],\n",
              "       [ 1.00438367,  1.27949493,  0.35403374, -0.03335187],\n",
              "       [ 0.88337621,  0.03184527,  0.39886959,  1.16731536],\n",
              "       [ 0.06818346, -0.00563469,  0.42076085, -1.23401909],\n",
              "       [ 0.43980557,  0.8577414 ,  0.57603938,  1.16731536],\n",
              "       [ 0.37487683, -0.27853767,  0.68120328, -0.03335187]])"
            ]
          },
          "metadata": {},
          "execution_count": 25
        }
      ]
    },
    {
      "cell_type": "code",
      "source": [
        "x=pd.DataFrame(x,columns = names)"
      ],
      "metadata": {
        "id": "u0b2_vOPcbXd"
      },
      "execution_count": 26,
      "outputs": []
    },
    {
      "cell_type": "code",
      "source": [
        "x.head()"
      ],
      "metadata": {
        "colab": {
          "base_uri": "https://localhost:8080/",
          "height": 206
        },
        "id": "zwy9jjcsctYK",
        "outputId": "a08cb326-5120-4df2-e1e5-96001dc5692b"
      },
      "execution_count": 27,
      "outputs": [
        {
          "output_type": "execute_result",
          "data": {
            "text/plain": [
              "   R&D Spend  Administration  Marketing Spend     State\n",
              "0   2.018191        0.556966         2.187835  1.167315\n",
              "1   1.956756        1.089397         1.950290 -1.234019\n",
              "2   1.752320       -0.757668         1.643929 -0.033352\n",
              "3   1.549829       -0.113215         1.433223  1.167315\n",
              "4   1.499255       -1.116321         1.288141 -0.033352"
            ],
            "text/html": [
              "\n",
              "  <div id=\"df-87bd19bc-c6d4-45cd-b7ad-d825ea34f681\">\n",
              "    <div class=\"colab-df-container\">\n",
              "      <div>\n",
              "<style scoped>\n",
              "    .dataframe tbody tr th:only-of-type {\n",
              "        vertical-align: middle;\n",
              "    }\n",
              "\n",
              "    .dataframe tbody tr th {\n",
              "        vertical-align: top;\n",
              "    }\n",
              "\n",
              "    .dataframe thead th {\n",
              "        text-align: right;\n",
              "    }\n",
              "</style>\n",
              "<table border=\"1\" class=\"dataframe\">\n",
              "  <thead>\n",
              "    <tr style=\"text-align: right;\">\n",
              "      <th></th>\n",
              "      <th>R&amp;D Spend</th>\n",
              "      <th>Administration</th>\n",
              "      <th>Marketing Spend</th>\n",
              "      <th>State</th>\n",
              "    </tr>\n",
              "  </thead>\n",
              "  <tbody>\n",
              "    <tr>\n",
              "      <th>0</th>\n",
              "      <td>2.018191</td>\n",
              "      <td>0.556966</td>\n",
              "      <td>2.187835</td>\n",
              "      <td>1.167315</td>\n",
              "    </tr>\n",
              "    <tr>\n",
              "      <th>1</th>\n",
              "      <td>1.956756</td>\n",
              "      <td>1.089397</td>\n",
              "      <td>1.950290</td>\n",
              "      <td>-1.234019</td>\n",
              "    </tr>\n",
              "    <tr>\n",
              "      <th>2</th>\n",
              "      <td>1.752320</td>\n",
              "      <td>-0.757668</td>\n",
              "      <td>1.643929</td>\n",
              "      <td>-0.033352</td>\n",
              "    </tr>\n",
              "    <tr>\n",
              "      <th>3</th>\n",
              "      <td>1.549829</td>\n",
              "      <td>-0.113215</td>\n",
              "      <td>1.433223</td>\n",
              "      <td>1.167315</td>\n",
              "    </tr>\n",
              "    <tr>\n",
              "      <th>4</th>\n",
              "      <td>1.499255</td>\n",
              "      <td>-1.116321</td>\n",
              "      <td>1.288141</td>\n",
              "      <td>-0.033352</td>\n",
              "    </tr>\n",
              "  </tbody>\n",
              "</table>\n",
              "</div>\n",
              "      <button class=\"colab-df-convert\" onclick=\"convertToInteractive('df-87bd19bc-c6d4-45cd-b7ad-d825ea34f681')\"\n",
              "              title=\"Convert this dataframe to an interactive table.\"\n",
              "              style=\"display:none;\">\n",
              "        \n",
              "  <svg xmlns=\"http://www.w3.org/2000/svg\" height=\"24px\"viewBox=\"0 0 24 24\"\n",
              "       width=\"24px\">\n",
              "    <path d=\"M0 0h24v24H0V0z\" fill=\"none\"/>\n",
              "    <path d=\"M18.56 5.44l.94 2.06.94-2.06 2.06-.94-2.06-.94-.94-2.06-.94 2.06-2.06.94zm-11 1L8.5 8.5l.94-2.06 2.06-.94-2.06-.94L8.5 2.5l-.94 2.06-2.06.94zm10 10l.94 2.06.94-2.06 2.06-.94-2.06-.94-.94-2.06-.94 2.06-2.06.94z\"/><path d=\"M17.41 7.96l-1.37-1.37c-.4-.4-.92-.59-1.43-.59-.52 0-1.04.2-1.43.59L10.3 9.45l-7.72 7.72c-.78.78-.78 2.05 0 2.83L4 21.41c.39.39.9.59 1.41.59.51 0 1.02-.2 1.41-.59l7.78-7.78 2.81-2.81c.8-.78.8-2.07 0-2.86zM5.41 20L4 18.59l7.72-7.72 1.47 1.35L5.41 20z\"/>\n",
              "  </svg>\n",
              "      </button>\n",
              "      \n",
              "  <style>\n",
              "    .colab-df-container {\n",
              "      display:flex;\n",
              "      flex-wrap:wrap;\n",
              "      gap: 12px;\n",
              "    }\n",
              "\n",
              "    .colab-df-convert {\n",
              "      background-color: #E8F0FE;\n",
              "      border: none;\n",
              "      border-radius: 50%;\n",
              "      cursor: pointer;\n",
              "      display: none;\n",
              "      fill: #1967D2;\n",
              "      height: 32px;\n",
              "      padding: 0 0 0 0;\n",
              "      width: 32px;\n",
              "    }\n",
              "\n",
              "    .colab-df-convert:hover {\n",
              "      background-color: #E2EBFA;\n",
              "      box-shadow: 0px 1px 2px rgba(60, 64, 67, 0.3), 0px 1px 3px 1px rgba(60, 64, 67, 0.15);\n",
              "      fill: #174EA6;\n",
              "    }\n",
              "\n",
              "    [theme=dark] .colab-df-convert {\n",
              "      background-color: #3B4455;\n",
              "      fill: #D2E3FC;\n",
              "    }\n",
              "\n",
              "    [theme=dark] .colab-df-convert:hover {\n",
              "      background-color: #434B5C;\n",
              "      box-shadow: 0px 1px 3px 1px rgba(0, 0, 0, 0.15);\n",
              "      filter: drop-shadow(0px 1px 2px rgba(0, 0, 0, 0.3));\n",
              "      fill: #FFFFFF;\n",
              "    }\n",
              "  </style>\n",
              "\n",
              "      <script>\n",
              "        const buttonEl =\n",
              "          document.querySelector('#df-87bd19bc-c6d4-45cd-b7ad-d825ea34f681 button.colab-df-convert');\n",
              "        buttonEl.style.display =\n",
              "          google.colab.kernel.accessAllowed ? 'block' : 'none';\n",
              "\n",
              "        async function convertToInteractive(key) {\n",
              "          const element = document.querySelector('#df-87bd19bc-c6d4-45cd-b7ad-d825ea34f681');\n",
              "          const dataTable =\n",
              "            await google.colab.kernel.invokeFunction('convertToInteractive',\n",
              "                                                     [key], {});\n",
              "          if (!dataTable) return;\n",
              "\n",
              "          const docLinkHtml = 'Like what you see? Visit the ' +\n",
              "            '<a target=\"_blank\" href=https://colab.research.google.com/notebooks/data_table.ipynb>data table notebook</a>'\n",
              "            + ' to learn more about interactive tables.';\n",
              "          element.innerHTML = '';\n",
              "          dataTable['output_type'] = 'display_data';\n",
              "          await google.colab.output.renderOutput(dataTable, element);\n",
              "          const docLink = document.createElement('div');\n",
              "          docLink.innerHTML = docLinkHtml;\n",
              "          element.appendChild(docLink);\n",
              "        }\n",
              "      </script>\n",
              "    </div>\n",
              "  </div>\n",
              "  "
            ]
          },
          "metadata": {},
          "execution_count": 27
        }
      ]
    },
    {
      "cell_type": "code",
      "source": [
        "from sklearn.model_selection import train_test_split"
      ],
      "metadata": {
        "id": "xWid0aqpdKtb"
      },
      "execution_count": 29,
      "outputs": []
    },
    {
      "cell_type": "code",
      "source": [
        "x_train,x_test,y_train,y_test = train_test_split(x,y,test_size=0.2)"
      ],
      "metadata": {
        "id": "mX5Xe7f9eEjL"
      },
      "execution_count": 30,
      "outputs": []
    },
    {
      "cell_type": "code",
      "source": [
        "import tensorflow"
      ],
      "metadata": {
        "id": "lRX7tOxHe9Vm"
      },
      "execution_count": 31,
      "outputs": []
    },
    {
      "cell_type": "code",
      "source": [
        "from tensorflow.keras.models import Sequential\n",
        "from tensorflow.keras.layers import Dense"
      ],
      "metadata": {
        "id": "wZj6ef1qe9gg"
      },
      "execution_count": 32,
      "outputs": []
    },
    {
      "cell_type": "code",
      "source": [
        "model=Sequential()"
      ],
      "metadata": {
        "id": "orn1n0fBe9rd"
      },
      "execution_count": 33,
      "outputs": []
    },
    {
      "cell_type": "code",
      "source": [
        "model.add(Dense(units =4,kernel_initializer =\"random_uniform\",activation='relu'))"
      ],
      "metadata": {
        "id": "pdrPit8pe920"
      },
      "execution_count": 35,
      "outputs": []
    },
    {
      "cell_type": "code",
      "source": [
        "model.add(Dense(units =10,kernel_initializer =\"random_uniform\",activation='relu'))"
      ],
      "metadata": {
        "id": "1Vc3CWDPe-A8"
      },
      "execution_count": 36,
      "outputs": []
    },
    {
      "cell_type": "code",
      "source": [
        "model.add(Dense(units =12,kernel_initializer =\"random_uniform\",activation='relu'))"
      ],
      "metadata": {
        "id": "yKIjCC3GinLp"
      },
      "execution_count": 37,
      "outputs": []
    },
    {
      "cell_type": "code",
      "source": [
        "model.add(Dense(units =1,kernel_initializer =\"random_uniform\"))"
      ],
      "metadata": {
        "id": "TU9u4_QRinPz"
      },
      "execution_count": 38,
      "outputs": []
    },
    {
      "cell_type": "code",
      "source": [
        "model.compile(loss='mse',metrics=['mse'],optimizer=\"adam\")"
      ],
      "metadata": {
        "id": "lL5u1zyRinUD"
      },
      "execution_count": 40,
      "outputs": []
    },
    {
      "cell_type": "code",
      "source": [
        "model.fit(x_train,y_train,epochs=5,batch_size=10)"
      ],
      "metadata": {
        "colab": {
          "base_uri": "https://localhost:8080/"
        },
        "id": "C6EzvOCWinYG",
        "outputId": "28227c24-a267-40b3-9dba-5f1b8387604b"
      },
      "execution_count": 42,
      "outputs": [
        {
          "output_type": "stream",
          "name": "stdout",
          "text": [
            "Epoch 1/5\n",
            "9/9 [==============================] - 1s 3ms/step - loss: 13930791936.0000 - mse: 13930791936.0000\n",
            "Epoch 2/5\n",
            "9/9 [==============================] - 0s 4ms/step - loss: 13930789888.0000 - mse: 13930789888.0000\n",
            "Epoch 3/5\n",
            "9/9 [==============================] - 0s 3ms/step - loss: 13930786816.0000 - mse: 13930786816.0000\n",
            "Epoch 4/5\n",
            "9/9 [==============================] - 0s 3ms/step - loss: 13930781696.0000 - mse: 13930781696.0000\n",
            "Epoch 5/5\n",
            "9/9 [==============================] - 0s 5ms/step - loss: 13930775552.0000 - mse: 13930775552.0000\n"
          ]
        },
        {
          "output_type": "execute_result",
          "data": {
            "text/plain": [
              "<keras.callbacks.History at 0x7fcd88490a10>"
            ]
          },
          "metadata": {},
          "execution_count": 42
        }
      ]
    },
    {
      "cell_type": "code",
      "source": [
        "pred=model.predict(x_test)"
      ],
      "metadata": {
        "id": "jPUi21wvinY-"
      },
      "execution_count": 43,
      "outputs": []
    },
    {
      "cell_type": "code",
      "source": [
        "pred"
      ],
      "metadata": {
        "colab": {
          "base_uri": "https://localhost:8080/"
        },
        "id": "0iBApMnOl3BP",
        "outputId": "61091736-2abc-44e7-ce59-a3b97eaac7f0"
      },
      "execution_count": 44,
      "outputs": [
        {
          "output_type": "execute_result",
          "data": {
            "text/plain": [
              "array([[0.09388857],\n",
              "       [0.09105916],\n",
              "       [0.09090573],\n",
              "       [0.09169963],\n",
              "       [0.09177914],\n",
              "       [0.09031473],\n",
              "       [0.09067672],\n",
              "       [0.09230253],\n",
              "       [0.09301695],\n",
              "       [0.0913986 ],\n",
              "       [0.09057508],\n",
              "       [0.09190114],\n",
              "       [0.09207165],\n",
              "       [0.09230253],\n",
              "       [0.09157567],\n",
              "       [0.09157278],\n",
              "       [0.09207165],\n",
              "       [0.09182677],\n",
              "       [0.09067672],\n",
              "       [0.09102552],\n",
              "       [0.09227417],\n",
              "       [0.09111232]], dtype=float32)"
            ]
          },
          "metadata": {},
          "execution_count": 44
        }
      ]
    },
    {
      "cell_type": "code",
      "source": [
        "y_test"
      ],
      "metadata": {
        "colab": {
          "base_uri": "https://localhost:8080/"
        },
        "id": "f7e-3PNLl3CN",
        "outputId": "cd2a00d3-5e0a-466a-f34b-6755a7e63c1e"
      },
      "execution_count": 45,
      "outputs": [
        {
          "output_type": "execute_result",
          "data": {
            "text/plain": [
              "1     191792.06\n",
              "75     90708.19\n",
              "46     49490.75\n",
              "99    146121.95\n",
              "61    110352.25\n",
              "35     96479.51\n",
              "86     42559.73\n",
              "92    182901.99\n",
              "0     192261.83\n",
              "71     97427.84\n",
              "70     97483.56\n",
              "11    144259.40\n",
              "59    118474.03\n",
              "3     182901.99\n",
              "26    105733.54\n",
              "27    105008.31\n",
              "20    118474.03\n",
              "56    125370.37\n",
              "47     42559.73\n",
              "58    122776.86\n",
              "93    166187.94\n",
              "29    101004.64\n",
              "Name: Profit, dtype: float64"
            ]
          },
          "metadata": {},
          "execution_count": 45
        }
      ]
    },
    {
      "cell_type": "code",
      "source": [
        "y_test=np.array(y_test)"
      ],
      "metadata": {
        "id": "-H9yk_x0l3Gc"
      },
      "execution_count": 48,
      "outputs": []
    },
    {
      "cell_type": "code",
      "source": [
        "error=(y_test-pred)"
      ],
      "metadata": {
        "id": "PNdBQbp9l3HW"
      },
      "execution_count": 50,
      "outputs": []
    },
    {
      "cell_type": "code",
      "source": [
        "error"
      ],
      "metadata": {
        "colab": {
          "base_uri": "https://localhost:8080/"
        },
        "id": "B-b2rS3Bm-L1",
        "outputId": "52c5cbea-3307-4fef-d2f6-ec45a9777b07"
      },
      "execution_count": 51,
      "outputs": [
        {
          "output_type": "execute_result",
          "data": {
            "text/plain": [
              "array([[191791.96611143,  90708.09611143,  49490.65611143,\n",
              "        146121.85611143, 110352.15611143,  96479.41611143,\n",
              "         42559.63611143, 182901.89611143, 192261.73611143,\n",
              "         97427.74611143,  97483.46611143, 144259.30611143,\n",
              "        118473.93611143, 182901.89611143, 105733.44611143,\n",
              "        105008.21611143, 118473.93611143, 125370.27611143,\n",
              "         42559.63611143, 122776.76611143, 166187.84611143,\n",
              "        101004.54611143],\n",
              "       [191791.96894084,  90708.09894084,  49490.65894084,\n",
              "        146121.85894084, 110352.15894084,  96479.41894084,\n",
              "         42559.63894084, 182901.89894084, 192261.73894084,\n",
              "         97427.74894084,  97483.46894084, 144259.30894084,\n",
              "        118473.93894084, 182901.89894084, 105733.44894084,\n",
              "        105008.21894084, 118473.93894084, 125370.27894084,\n",
              "         42559.63894084, 122776.76894084, 166187.84894084,\n",
              "        101004.54894084],\n",
              "       [191791.96909427,  90708.09909427,  49490.65909427,\n",
              "        146121.85909427, 110352.15909427,  96479.41909427,\n",
              "         42559.63909427, 182901.89909427, 192261.73909427,\n",
              "         97427.74909427,  97483.46909427, 144259.30909427,\n",
              "        118473.93909427, 182901.89909427, 105733.44909427,\n",
              "        105008.21909427, 118473.93909427, 125370.27909427,\n",
              "         42559.63909427, 122776.76909427, 166187.84909427,\n",
              "        101004.54909427],\n",
              "       [191791.96830037,  90708.09830037,  49490.65830037,\n",
              "        146121.85830037, 110352.15830037,  96479.41830037,\n",
              "         42559.63830037, 182901.89830037, 192261.73830037,\n",
              "         97427.74830037,  97483.46830037, 144259.30830037,\n",
              "        118473.93830037, 182901.89830037, 105733.44830037,\n",
              "        105008.21830037, 118473.93830037, 125370.27830037,\n",
              "         42559.63830037, 122776.76830037, 166187.84830037,\n",
              "        101004.54830037],\n",
              "       [191791.96822086,  90708.09822086,  49490.65822086,\n",
              "        146121.85822086, 110352.15822086,  96479.41822086,\n",
              "         42559.63822086, 182901.89822086, 192261.73822086,\n",
              "         97427.74822086,  97483.46822086, 144259.30822086,\n",
              "        118473.93822086, 182901.89822086, 105733.44822086,\n",
              "        105008.21822086, 118473.93822086, 125370.27822086,\n",
              "         42559.63822086, 122776.76822086, 166187.84822086,\n",
              "        101004.54822086],\n",
              "       [191791.96968527,  90708.09968527,  49490.65968527,\n",
              "        146121.85968527, 110352.15968527,  96479.41968527,\n",
              "         42559.63968527, 182901.89968527, 192261.73968527,\n",
              "         97427.74968527,  97483.46968527, 144259.30968527,\n",
              "        118473.93968527, 182901.89968527, 105733.44968527,\n",
              "        105008.21968527, 118473.93968527, 125370.27968527,\n",
              "         42559.63968527, 122776.76968527, 166187.84968527,\n",
              "        101004.54968527],\n",
              "       [191791.96932328,  90708.09932328,  49490.65932328,\n",
              "        146121.85932328, 110352.15932328,  96479.41932328,\n",
              "         42559.63932328, 182901.89932328, 192261.73932328,\n",
              "         97427.74932328,  97483.46932328, 144259.30932328,\n",
              "        118473.93932328, 182901.89932328, 105733.44932328,\n",
              "        105008.21932328, 118473.93932328, 125370.27932328,\n",
              "         42559.63932328, 122776.76932328, 166187.84932328,\n",
              "        101004.54932328],\n",
              "       [191791.96769747,  90708.09769747,  49490.65769747,\n",
              "        146121.85769747, 110352.15769747,  96479.41769747,\n",
              "         42559.63769747, 182901.89769747, 192261.73769747,\n",
              "         97427.74769747,  97483.46769747, 144259.30769747,\n",
              "        118473.93769747, 182901.89769747, 105733.44769747,\n",
              "        105008.21769747, 118473.93769747, 125370.27769747,\n",
              "         42559.63769747, 122776.76769747, 166187.84769747,\n",
              "        101004.54769747],\n",
              "       [191791.96698305,  90708.09698305,  49490.65698305,\n",
              "        146121.85698305, 110352.15698305,  96479.41698305,\n",
              "         42559.63698305, 182901.89698305, 192261.73698305,\n",
              "         97427.74698305,  97483.46698305, 144259.30698305,\n",
              "        118473.93698305, 182901.89698305, 105733.44698305,\n",
              "        105008.21698305, 118473.93698305, 125370.27698305,\n",
              "         42559.63698305, 122776.76698305, 166187.84698305,\n",
              "        101004.54698305],\n",
              "       [191791.9686014 ,  90708.0986014 ,  49490.6586014 ,\n",
              "        146121.8586014 , 110352.1586014 ,  96479.4186014 ,\n",
              "         42559.6386014 , 182901.8986014 , 192261.7386014 ,\n",
              "         97427.7486014 ,  97483.4686014 , 144259.3086014 ,\n",
              "        118473.9386014 , 182901.8986014 , 105733.4486014 ,\n",
              "        105008.2186014 , 118473.9386014 , 125370.2786014 ,\n",
              "         42559.6386014 , 122776.7686014 , 166187.8486014 ,\n",
              "        101004.5486014 ],\n",
              "       [191791.96942492,  90708.09942492,  49490.65942492,\n",
              "        146121.85942492, 110352.15942492,  96479.41942492,\n",
              "         42559.63942492, 182901.89942492, 192261.73942492,\n",
              "         97427.74942492,  97483.46942492, 144259.30942492,\n",
              "        118473.93942492, 182901.89942492, 105733.44942492,\n",
              "        105008.21942492, 118473.93942492, 125370.27942492,\n",
              "         42559.63942492, 122776.76942492, 166187.84942492,\n",
              "        101004.54942492],\n",
              "       [191791.96809886,  90708.09809886,  49490.65809886,\n",
              "        146121.85809886, 110352.15809886,  96479.41809886,\n",
              "         42559.63809886, 182901.89809886, 192261.73809886,\n",
              "         97427.74809886,  97483.46809886, 144259.30809886,\n",
              "        118473.93809886, 182901.89809886, 105733.44809886,\n",
              "        105008.21809886, 118473.93809886, 125370.27809886,\n",
              "         42559.63809886, 122776.76809886, 166187.84809886,\n",
              "        101004.54809886],\n",
              "       [191791.96792835,  90708.09792835,  49490.65792835,\n",
              "        146121.85792835, 110352.15792835,  96479.41792835,\n",
              "         42559.63792835, 182901.89792835, 192261.73792835,\n",
              "         97427.74792835,  97483.46792835, 144259.30792835,\n",
              "        118473.93792835, 182901.89792835, 105733.44792835,\n",
              "        105008.21792835, 118473.93792835, 125370.27792835,\n",
              "         42559.63792835, 122776.76792835, 166187.84792835,\n",
              "        101004.54792835],\n",
              "       [191791.96769747,  90708.09769747,  49490.65769747,\n",
              "        146121.85769747, 110352.15769747,  96479.41769747,\n",
              "         42559.63769747, 182901.89769747, 192261.73769747,\n",
              "         97427.74769747,  97483.46769747, 144259.30769747,\n",
              "        118473.93769747, 182901.89769747, 105733.44769747,\n",
              "        105008.21769747, 118473.93769747, 125370.27769747,\n",
              "         42559.63769747, 122776.76769747, 166187.84769747,\n",
              "        101004.54769747],\n",
              "       [191791.96842433,  90708.09842433,  49490.65842433,\n",
              "        146121.85842433, 110352.15842433,  96479.41842433,\n",
              "         42559.63842433, 182901.89842433, 192261.73842433,\n",
              "         97427.74842433,  97483.46842433, 144259.30842433,\n",
              "        118473.93842433, 182901.89842433, 105733.44842433,\n",
              "        105008.21842433, 118473.93842433, 125370.27842433,\n",
              "         42559.63842433, 122776.76842433, 166187.84842433,\n",
              "        101004.54842433],\n",
              "       [191791.96842722,  90708.09842722,  49490.65842722,\n",
              "        146121.85842722, 110352.15842722,  96479.41842722,\n",
              "         42559.63842722, 182901.89842722, 192261.73842722,\n",
              "         97427.74842722,  97483.46842722, 144259.30842722,\n",
              "        118473.93842722, 182901.89842722, 105733.44842722,\n",
              "        105008.21842722, 118473.93842722, 125370.27842722,\n",
              "         42559.63842722, 122776.76842722, 166187.84842722,\n",
              "        101004.54842722],\n",
              "       [191791.96792835,  90708.09792835,  49490.65792835,\n",
              "        146121.85792835, 110352.15792835,  96479.41792835,\n",
              "         42559.63792835, 182901.89792835, 192261.73792835,\n",
              "         97427.74792835,  97483.46792835, 144259.30792835,\n",
              "        118473.93792835, 182901.89792835, 105733.44792835,\n",
              "        105008.21792835, 118473.93792835, 125370.27792835,\n",
              "         42559.63792835, 122776.76792835, 166187.84792835,\n",
              "        101004.54792835],\n",
              "       [191791.96817323,  90708.09817323,  49490.65817323,\n",
              "        146121.85817323, 110352.15817323,  96479.41817323,\n",
              "         42559.63817323, 182901.89817323, 192261.73817323,\n",
              "         97427.74817323,  97483.46817323, 144259.30817323,\n",
              "        118473.93817323, 182901.89817323, 105733.44817323,\n",
              "        105008.21817323, 118473.93817323, 125370.27817323,\n",
              "         42559.63817323, 122776.76817323, 166187.84817323,\n",
              "        101004.54817323],\n",
              "       [191791.96932328,  90708.09932328,  49490.65932328,\n",
              "        146121.85932328, 110352.15932328,  96479.41932328,\n",
              "         42559.63932328, 182901.89932328, 192261.73932328,\n",
              "         97427.74932328,  97483.46932328, 144259.30932328,\n",
              "        118473.93932328, 182901.89932328, 105733.44932328,\n",
              "        105008.21932328, 118473.93932328, 125370.27932328,\n",
              "         42559.63932328, 122776.76932328, 166187.84932328,\n",
              "        101004.54932328],\n",
              "       [191791.96897448,  90708.09897448,  49490.65897448,\n",
              "        146121.85897448, 110352.15897448,  96479.41897448,\n",
              "         42559.63897448, 182901.89897448, 192261.73897448,\n",
              "         97427.74897448,  97483.46897448, 144259.30897448,\n",
              "        118473.93897448, 182901.89897448, 105733.44897448,\n",
              "        105008.21897448, 118473.93897448, 125370.27897448,\n",
              "         42559.63897448, 122776.76897448, 166187.84897448,\n",
              "        101004.54897448],\n",
              "       [191791.96772583,  90708.09772583,  49490.65772583,\n",
              "        146121.85772583, 110352.15772583,  96479.41772583,\n",
              "         42559.63772583, 182901.89772583, 192261.73772583,\n",
              "         97427.74772583,  97483.46772583, 144259.30772583,\n",
              "        118473.93772583, 182901.89772583, 105733.44772583,\n",
              "        105008.21772583, 118473.93772583, 125370.27772583,\n",
              "         42559.63772583, 122776.76772583, 166187.84772583,\n",
              "        101004.54772583],\n",
              "       [191791.96888768,  90708.09888768,  49490.65888768,\n",
              "        146121.85888768, 110352.15888768,  96479.41888768,\n",
              "         42559.63888768, 182901.89888768, 192261.73888768,\n",
              "         97427.74888768,  97483.46888768, 144259.30888768,\n",
              "        118473.93888768, 182901.89888768, 105733.44888768,\n",
              "        105008.21888768, 118473.93888768, 125370.27888768,\n",
              "         42559.63888768, 122776.76888768, 166187.84888768,\n",
              "        101004.54888768]])"
            ]
          },
          "metadata": {},
          "execution_count": 51
        }
      ]
    },
    {
      "cell_type": "code",
      "source": [
        "from sklearn import metrics"
      ],
      "metadata": {
        "id": "HMZaP9gvnSmD"
      },
      "execution_count": 52,
      "outputs": []
    },
    {
      "cell_type": "code",
      "source": [
        "metrics.mean_squared_error(pred,y_test)"
      ],
      "metadata": {
        "colab": {
          "base_uri": "https://localhost:8080/"
        },
        "id": "-NUJF3HVnSm3",
        "outputId": "18032bf8-98d1-4f3f-9907-41c13ae1bad8"
      },
      "execution_count": 53,
      "outputs": [
        {
          "output_type": "execute_result",
          "data": {
            "text/plain": [
              "16204040247.865137"
            ]
          },
          "metadata": {},
          "execution_count": 53
        }
      ]
    }
  ]
}